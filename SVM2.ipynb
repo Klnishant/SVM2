{
 "cells": [
  {
   "cell_type": "markdown",
   "id": "24c82e04-3b97-4d8f-8b85-d53202c0e9cc",
   "metadata": {},
   "source": [
    "##### Q1. What is the relationship between polynomial functions and kernel functions in machine learning algorithms?"
   ]
  },
  {
   "cell_type": "markdown",
   "id": "6f719c9d-5f5d-476e-936c-50c38c0c03d7",
   "metadata": {},
   "source": [
    "Ans--> In machine learning algorithms, polynomial functions and kernel functions are related concepts, particularly in the context of kernel methods such as Support Vector Machines (SVMs).\n",
    "\n",
    "Polynomial functions are mathematical functions that involve terms raised to different powers. They are commonly used to capture non-linear relationships between input variables in machine learning models. For example, a polynomial function of degree 2 can be expressed as:\n",
    "\n",
    "```\n",
    "f(x) = w0 + w1*x + w2*x^2\n",
    "```\n",
    "\n",
    "where `x` represents the input variable, and `w0`, `w1`, and `w2` are the coefficients or weights associated with each term.\n",
    "\n",
    "Kernel functions, on the other hand, are a key component of kernel methods, which are used in various machine learning algorithms, including SVMs. Kernel functions allow these algorithms to implicitly map the original input space to a higher-dimensional feature space. This mapping allows the algorithms to effectively capture complex and non-linear relationships between the input variables.\n",
    "\n",
    "The relationship between polynomial functions and kernel functions lies in the fact that some kernel functions can be seen as implicitly computing the dot product between feature vectors in a higher-dimensional space, which is equivalent to evaluating a polynomial function. In other words, certain kernel functions can be interpreted as providing a way to capture polynomial relationships between the input variables without explicitly calculating the expanded polynomial terms.\n",
    "\n",
    "For example, the polynomial kernel is a popular kernel function used in SVMs, defined as:\n",
    "\n",
    "```\n",
    "K(x, y) = (x⋅y + c)^d\n",
    "```\n",
    "\n",
    "where `x` and `y` represent the input feature vectors, `c` is a constant, and `d` is the degree of the polynomial. This kernel implicitly maps the input features to a higher-dimensional space and computes the dot product of the mapped feature vectors. This allows the SVM to capture polynomial relationships between the input variables without explicitly expanding the polynomial terms.\n",
    "\n",
    "In summary, polynomial functions and kernel functions are related in the sense that certain kernel functions, such as the polynomial kernel, enable the capture of polynomial relationships between input variables in machine learning algorithms, particularly in kernel methods like SVMs. Kernel functions provide a way to implicitly map the input space to a higher-dimensional feature space, where polynomial relationships can be effectively captured without explicitly calculating the expanded polynomial terms."
   ]
  },
  {
   "cell_type": "markdown",
   "id": "d62d3939-ef70-4cf9-8079-416e3d42311a",
   "metadata": {},
   "source": [
    "##### Q2. How can we implement an SVM with a polynomial kernel in Python using Scikit-learn?"
   ]
  },
  {
   "cell_type": "code",
   "execution_count": 33,
   "id": "3cdbab10-beee-4382-a44f-eb5b6b272703",
   "metadata": {},
   "outputs": [
    {
     "name": "stdout",
     "output_type": "stream",
     "text": [
      "Accuracy: 1.0\n"
     ]
    }
   ],
   "source": [
    "from sklearn.svm import SVC\n",
    "from sklearn.datasets import load_iris\n",
    "from sklearn.model_selection import train_test_split\n",
    "from sklearn.metrics import accuracy_score\n",
    "\n",
    "# Load the iris dataset\n",
    "iris = load_iris()\n",
    "\n",
    "# Split the dataset into features (X) and labels (y)\n",
    "X = iris.data\n",
    "y = iris.target\n",
    "\n",
    "# Split the dataset into a training set and a testing set\n",
    "X_train, X_test, y_train, y_test = train_test_split(X, y, test_size=0.2, random_state=42)\n",
    "\n",
    "# Create an SVM classifier with a polynomial kernel\n",
    "svm_classifier = SVC(kernel='poly', degree=3)  # Degree 3 polynomial kernel\n",
    "\n",
    "# Train the SVM classifier on the training set\n",
    "svm_classifier.fit(X_train, y_train)\n",
    "\n",
    "# Predict the labels for the testing set\n",
    "y_pred = svm_classifier.predict(X_test)\n",
    "\n",
    "# Calculate the accuracy of the classifier\n",
    "accuracy = accuracy_score(y_test, y_pred)\n",
    "print(\"Accuracy:\", accuracy)\n"
   ]
  },
  {
   "cell_type": "markdown",
   "id": "c3f952cc-5a8b-4500-a858-4361e648dfe5",
   "metadata": {},
   "source": [
    "##### Q3. How does increasing the value of epsilon affect the number of support vectors in SVR?"
   ]
  },
  {
   "cell_type": "markdown",
   "id": "076cecd6-fd34-4a96-b760-601d6dd87ef1",
   "metadata": {},
   "source": [
    "Ans--> In Support Vector Regression (SVR), the value of epsilon (`epsilon` parameter) determines the width of the epsilon-insensitive tube around the training samples. The epsilon-insensitive tube is a region within which errors are not penalized, and points outside this tube contribute to the loss function.\n",
    "\n",
    "Increasing the value of epsilon in SVR has the following effect on the number of support vectors:\n",
    "\n",
    "1. Larger Epsilon: When the value of epsilon is increased, the width of the epsilon-insensitive tube is widened. This allows more training samples to fall within the tube without being penalized for errors. As a result, more training samples may become support vectors, leading to an increase in the number of support vectors.\n",
    "\n",
    "2. Smaller Epsilon: Conversely, when the value of epsilon is decreased, the width of the epsilon-insensitive tube is reduced. This makes the model more sensitive to errors, and fewer training samples can fall within the tube without being penalized. As a result, the number of support vectors may decrease.\n",
    "\n",
    "It's important to note that the number of support vectors depends not only on the value of epsilon but also on the complexity of the data and the specific problem at hand. In some cases, increasing epsilon may lead to a decrease in the number of support vectors if the data is well-separated and there are fewer samples near the decision boundary.\n",
    "\n",
    "Therefore, while increasing the value of epsilon generally tends to increase the number of support vectors in SVR, the relationship between epsilon and the number of support vectors can be influenced by other factors such as data distribution, model complexity, and the presence of outliers."
   ]
  },
  {
   "cell_type": "markdown",
   "id": "611a1137-d93c-4d95-948b-e53a3b9a0cce",
   "metadata": {},
   "source": [
    "##### Q4. How does the choice of kernel function, C parameter, epsilon parameter, and gamma parameter affect the performance of Support Vector Regression (SVR)? Can you explain how each parameter works and provide examples of when you might want to increase or decrease its value?"
   ]
  },
  {
   "cell_type": "markdown",
   "id": "9c1f07b6-74a6-42a0-89d0-3e69485549a2",
   "metadata": {},
   "source": [
    "Ans--> The performance of Support Vector Regression (SVR) is influenced by several parameters: the choice of kernel function, C parameter, epsilon parameter, and gamma parameter. Let's discuss each parameter and its impact on SVR performance:\n",
    "\n",
    "1. Kernel Function:\n",
    "   The kernel function (`kernel` parameter) determines the type of transformation applied to the data. It implicitly maps the data into a higher-dimensional feature space, where linear regression is performed. Different kernel functions have different characteristics and can capture different types of relationships between variables.\n",
    "\n",
    "   - Linear Kernel (`kernel='linear'`): Suitable for linearly separable data.\n",
    "   - Polynomial Kernel (`kernel='poly'`): Captures polynomial relationships between variables.\n",
    "   - Radial Basis Function (RBF) Kernel (`kernel='rbf'`): Captures non-linear and complex relationships.\n",
    "\n",
    "   The choice of kernel function depends on the nature of the data and the underlying relationship you want to capture.\n",
    "\n",
    "2. C Parameter:\n",
    "   The C parameter (`C` parameter) controls the trade-off between achieving a small margin and minimizing the training errors. It acts as a regularization parameter in SVR. A larger C value allows for a smaller margin but more strict error penalties, while a smaller C value allows for a larger margin and allows more errors.\n",
    "\n",
    "   - Increase C: May lead to overfitting as the model becomes more sensitive to individual data points. Use when you want to prioritize fitting the training data more precisely.\n",
    "   - Decrease C: May lead to underfitting as the model focuses more on achieving a larger margin. Use when you want to prioritize generalization and avoid overfitting.\n",
    "\n",
    "3. Epsilon Parameter:\n",
    "   The epsilon parameter (`epsilon` parameter) determines the width of the epsilon-insensitive tube around the training samples. Points within this tube are not considered errors and do not contribute to the loss function. A larger epsilon allows for a wider tube, allowing more points to fall within it.\n",
    "\n",
    "   - Increase Epsilon: Allows for a wider tolerance of errors. Use when you want to allow more training points to be within the epsilon-insensitive tube.\n",
    "   - Decrease Epsilon: Reduces the tolerance of errors. Use when you want to prioritize precision and have a smaller margin of tolerance for errors.\n",
    "\n",
    "4. Gamma Parameter:\n",
    "   The gamma parameter (`gamma` parameter) determines the influence of each training sample. It defines the reach of each training sample in the feature space. A smaller gamma implies a larger reach and leads to a smoother decision boundary, while a larger gamma makes the decision boundary more localized and can capture finer details of the training data.\n",
    "\n",
    "   - Increase Gamma: Makes the decision boundary more localized and captures finer details of the training data. Use when you have high confidence in the training data and want to focus on local patterns.\n",
    "   - Decrease Gamma: Expands the reach of each training sample and makes the decision boundary smoother. Use when you want to prioritize a smoother decision boundary and avoid overfitting.\n",
    "\n",
    "The impact of these parameters may vary depending on the specific dataset and problem at hand. It's important to tune these parameters using techniques like cross-validation to find the optimal values that maximize the performance of the SVR model for a given task."
   ]
  },
  {
   "cell_type": "markdown",
   "id": "da05ae62-a45b-4414-95c5-2acc8dca7de0",
   "metadata": {},
   "source": [
    "#### Q5. Assignment:"
   ]
  },
  {
   "cell_type": "markdown",
   "id": "7b52dc1f-4b93-4afe-88a6-e8a60d110c81",
   "metadata": {},
   "source": [
    "Import the necessary libraries and load the dataset"
   ]
  },
  {
   "cell_type": "code",
   "execution_count": 34,
   "id": "7a85cfd8-eda0-464b-b462-da7fcc3a0a76",
   "metadata": {},
   "outputs": [],
   "source": [
    "from sklearn.datasets import load_iris"
   ]
  },
  {
   "cell_type": "code",
   "execution_count": 35,
   "id": "96d8cc98-a5cf-48c7-8043-0361da45f881",
   "metadata": {},
   "outputs": [],
   "source": [
    "iris=load_iris()"
   ]
  },
  {
   "cell_type": "markdown",
   "id": "63de5322-3fcd-4f3e-89a6-35b2a77dedc1",
   "metadata": {},
   "source": [
    "##### Split the dataset into training and testing sets"
   ]
  },
  {
   "cell_type": "code",
   "execution_count": 36,
   "id": "c03c8cef-ec14-44ae-9e90-f618b6b48638",
   "metadata": {},
   "outputs": [],
   "source": [
    "x=iris.data\n",
    "y=iris.target"
   ]
  },
  {
   "cell_type": "code",
   "execution_count": 37,
   "id": "14a9b9d4-d4f2-4aed-9999-c643d8256a60",
   "metadata": {},
   "outputs": [],
   "source": [
    "from sklearn.model_selection import train_test_split"
   ]
  },
  {
   "cell_type": "code",
   "execution_count": 38,
   "id": "22c6cb6d-8816-4ddd-85bb-1fcde8bed21f",
   "metadata": {},
   "outputs": [],
   "source": [
    "x_train,x_test,y_train,y_test=train_test_split(x,y,test_size=0.2,random_state=42)"
   ]
  },
  {
   "cell_type": "markdown",
   "id": "a7df9df5-8046-4bb2-9d02-0f90826839a0",
   "metadata": {},
   "source": [
    "##### Preprocess the data using any technique of your choice (e.g. scaling, normalization)"
   ]
  },
  {
   "cell_type": "code",
   "execution_count": 39,
   "id": "c9c1bc0a-8a07-4e33-9384-0de188bd6b2d",
   "metadata": {},
   "outputs": [],
   "source": [
    "from sklearn.preprocessing import StandardScaler"
   ]
  },
  {
   "cell_type": "code",
   "execution_count": 40,
   "id": "7556bd81-1846-4ead-81ba-1b59beb6ade9",
   "metadata": {},
   "outputs": [],
   "source": [
    "scaler=StandardScaler()"
   ]
  },
  {
   "cell_type": "code",
   "execution_count": 41,
   "id": "8bf05c6b-0087-4eb6-9245-9572ac1aef8f",
   "metadata": {},
   "outputs": [
    {
     "data": {
      "text/plain": [
       "array([[-1.47393679,  1.20365799, -1.56253475, -1.31260282],\n",
       "       [-0.13307079,  2.99237573, -1.27600637, -1.04563275],\n",
       "       [ 1.08589829,  0.08570939,  0.38585821,  0.28921757],\n",
       "       [-1.23014297,  0.75647855, -1.2187007 , -1.31260282],\n",
       "       [-1.7177306 ,  0.30929911, -1.39061772, -1.31260282],\n",
       "       [ 0.59831066, -1.25582892,  0.72969227,  0.95664273],\n",
       "       [ 0.72020757,  0.30929911,  0.44316389,  0.4227026 ],\n",
       "       [-0.74255534,  0.98006827, -1.27600637, -1.31260282],\n",
       "       [-0.98634915,  1.20365799, -1.33331205, -1.31260282],\n",
       "       [-0.74255534,  2.32160658, -1.27600637, -1.44608785],\n",
       "       [-0.01117388, -0.80864948,  0.78699794,  0.95664273],\n",
       "       [ 0.23261993,  0.75647855,  0.44316389,  0.55618763],\n",
       "       [ 1.08589829,  0.08570939,  0.55777524,  0.4227026 ],\n",
       "       [-0.49876152,  1.87442714, -1.39061772, -1.04563275],\n",
       "       [-0.49876152,  1.4272477 , -1.27600637, -1.31260282],\n",
       "       [-0.37686461, -1.47941864, -0.01528151, -0.24472256],\n",
       "       [ 0.59831066, -0.58505976,  0.78699794,  0.4227026 ],\n",
       "       [ 0.72020757,  0.08570939,  1.01622064,  0.8231577 ],\n",
       "       [ 0.96400139, -0.13788033,  0.38585821,  0.28921757],\n",
       "       [ 1.69538284,  1.20365799,  1.3600547 ,  1.75755292],\n",
       "       [-0.13307079, -0.36147005,  0.27124686,  0.15573254],\n",
       "       [ 2.18297047, -0.13788033,  1.64658307,  1.22361279],\n",
       "       [-0.2549677 , -0.13788033,  0.44316389,  0.4227026 ],\n",
       "       [-0.86445224,  0.98006827, -1.33331205, -1.31260282],\n",
       "       [ 2.30486738, -0.58505976,  1.70388875,  1.09012776],\n",
       "       [-0.01117388, -0.80864948,  0.21394119, -0.24472256],\n",
       "       [-0.74255534,  0.75647855, -1.33331205, -1.31260282],\n",
       "       [-0.98634915,  0.98006827, -1.39061772, -1.17911778],\n",
       "       [-0.86445224,  1.65083742, -1.04678367, -1.04563275],\n",
       "       [-0.98634915, -2.37377751, -0.12989286, -0.24472256],\n",
       "       [ 0.59831066, -0.80864948,  0.67238659,  0.8231577 ],\n",
       "       [-1.23014297,  0.75647855, -1.04678367, -1.31260282],\n",
       "       [-0.98634915, -0.13788033, -1.2187007 , -1.31260282],\n",
       "       [-0.86445224,  0.53288883, -1.16139502, -0.91214772],\n",
       "       [-0.2549677 , -0.80864948,  0.27124686,  0.15573254],\n",
       "       [-0.86445224,  0.75647855, -1.27600637, -1.31260282],\n",
       "       [-0.13307079, -0.13788033,  0.27124686,  0.02224751],\n",
       "       [ 2.30486738,  1.65083742,  1.70388875,  1.35709783],\n",
       "       [-1.47393679,  0.30929911, -1.33331205, -1.31260282],\n",
       "       [ 0.47641375, -0.36147005,  0.32855254,  0.15573254],\n",
       "       [-0.13307079, -1.25582892,  0.72969227,  1.09012776],\n",
       "       [-0.37686461,  2.5451963 , -1.33331205, -1.31260282],\n",
       "       [ 0.23261993, -0.13788033,  0.61508092,  0.8231577 ],\n",
       "       [-0.01117388, -0.80864948,  0.78699794,  0.95664273],\n",
       "       [ 0.23261993, -1.92659808,  0.15663551, -0.24472256],\n",
       "       [-0.49876152, -0.13788033,  0.44316389,  0.4227026 ],\n",
       "       [ 0.47641375,  0.75647855,  0.95891497,  1.49058286],\n",
       "       [-0.37686461, -1.70300836,  0.15663551,  0.15573254],\n",
       "       [-0.49876152,  1.87442714, -1.16139502, -1.04563275],\n",
       "       [-0.98634915, -1.70300836, -0.24450422, -0.24472256],\n",
       "       [ 0.72020757, -0.80864948,  0.90160929,  0.95664273],\n",
       "       [-0.98634915,  0.53288883, -1.33331205, -1.31260282],\n",
       "       [-0.98634915,  0.30929911, -1.4479234 , -1.31260282],\n",
       "       [-0.37686461, -1.47941864,  0.04202416, -0.11123753],\n",
       "       [ 1.08589829, -0.13788033,  0.72969227,  0.68967267],\n",
       "       [-1.10824606,  0.08570939, -1.27600637, -1.31260282],\n",
       "       [-0.01117388, -0.58505976,  0.78699794,  1.62406789],\n",
       "       [-0.98634915,  0.75647855, -1.27600637, -1.31260282],\n",
       "       [-0.98634915,  0.98006827, -1.2187007 , -0.77866269],\n",
       "       [ 0.11072303,  0.30929911,  0.61508092,  0.8231577 ],\n",
       "       [-0.86445224, -1.25582892, -0.41642124, -0.11123753],\n",
       "       [ 1.32969211,  0.30929911,  1.130832  ,  1.49058286],\n",
       "       [ 0.23261993, -0.80864948,  0.78699794,  0.55618763],\n",
       "       [ 0.35451684, -1.0322392 ,  1.07352632,  0.28921757],\n",
       "       [ 2.30486738, -0.13788033,  1.3600547 ,  1.49058286],\n",
       "       [-0.37686461, -1.25582892,  0.15663551,  0.15573254],\n",
       "       [-1.7177306 , -0.36147005, -1.33331205, -1.31260282],\n",
       "       [-1.83962751, -0.13788033, -1.50522907, -1.44608785],\n",
       "       [ 0.23261993, -1.92659808,  0.72969227,  0.4227026 ],\n",
       "       [ 1.69538284,  0.30929911,  1.30274902,  0.8231577 ],\n",
       "       [-1.47393679,  0.08570939, -1.27600637, -1.31260282],\n",
       "       [-0.86445224,  0.98006827, -1.33331205, -1.17911778],\n",
       "       [-1.7177306 , -0.13788033, -1.39061772, -1.31260282],\n",
       "       [ 0.59831066, -1.25582892,  0.67238659,  0.4227026 ],\n",
       "       [ 0.59831066,  0.75647855,  1.07352632,  1.62406789],\n",
       "       [-1.47393679,  0.75647855, -1.33331205, -1.17911778],\n",
       "       [ 1.2077952 , -0.13788033,  1.01622064,  1.22361279],\n",
       "       [ 0.59831066,  0.53288883,  1.30274902,  1.75755292],\n",
       "       [-1.35203988,  0.30929911, -1.39061772, -1.31260282],\n",
       "       [ 0.35451684, -0.36147005,  0.55777524,  0.28921757],\n",
       "       [ 0.84210448, -0.58505976,  0.50046957,  0.4227026 ],\n",
       "       [ 0.47641375, -0.58505976,  0.61508092,  0.8231577 ],\n",
       "       [ 1.45158902,  0.30929911,  0.55777524,  0.28921757],\n",
       "       [ 0.72020757,  0.30929911,  0.90160929,  1.49058286],\n",
       "       [-0.86445224,  1.65083742, -1.2187007 , -1.31260282],\n",
       "       [ 1.32969211,  0.08570939,  0.95891497,  1.22361279],\n",
       "       [ 0.11072303, -0.13788033,  0.27124686,  0.4227026 ],\n",
       "       [ 0.84210448, -0.13788033,  0.84430362,  1.09012776],\n",
       "       [-0.13307079, -1.0322392 , -0.12989286, -0.24472256],\n",
       "       [-0.74255534, -0.80864948,  0.09932984,  0.28921757],\n",
       "       [ 0.35451684, -0.13788033,  0.50046957,  0.28921757],\n",
       "       [-1.5958337 , -1.70300836, -1.39061772, -1.17911778],\n",
       "       [ 0.96400139, -0.36147005,  0.50046957,  0.15573254],\n",
       "       [-0.37686461, -1.0322392 ,  0.38585821,  0.02224751],\n",
       "       [-0.62065843,  1.4272477 , -1.27600637, -1.31260282],\n",
       "       [-0.2549677 , -0.13788033,  0.21394119,  0.15573254],\n",
       "       [ 1.81727975, -0.36147005,  1.47466605,  0.8231577 ],\n",
       "       [ 1.08589829,  0.53288883,  1.130832  ,  1.22361279],\n",
       "       [-0.86445224,  1.4272477 , -1.27600637, -1.04563275],\n",
       "       [-1.10824606, -1.47941864, -0.24450422, -0.24472256],\n",
       "       [ 1.08589829,  0.53288883,  1.130832  ,  1.75755292],\n",
       "       [ 1.69538284, -0.13788033,  1.18813767,  0.55618763],\n",
       "       [-1.10824606,  1.20365799, -1.33331205, -1.44608785],\n",
       "       [ 1.08589829,  0.08570939,  1.07352632,  1.62406789],\n",
       "       [-1.10824606, -0.13788033, -1.33331205, -1.31260282],\n",
       "       [ 1.32969211,  0.08570939,  0.67238659,  0.4227026 ],\n",
       "       [ 1.93917666, -0.58505976,  1.3600547 ,  0.95664273],\n",
       "       [ 0.59831066, -0.36147005,  1.07352632,  0.8231577 ],\n",
       "       [-0.13307079, -0.58505976,  0.21394119,  0.15573254],\n",
       "       [ 0.84210448, -0.13788033,  1.01622064,  0.8231577 ],\n",
       "       [ 0.59831066, -1.70300836,  0.38585821,  0.15573254],\n",
       "       [ 0.72020757, -0.36147005,  0.32855254,  0.15573254],\n",
       "       [-0.2549677 , -0.58505976,  0.67238659,  1.09012776],\n",
       "       [ 0.11072303, -0.13788033,  0.78699794,  0.8231577 ],\n",
       "       [-0.49876152,  0.75647855, -1.16139502, -1.31260282],\n",
       "       [ 0.35451684, -0.58505976,  0.15663551,  0.15573254],\n",
       "       [-1.10824606, -1.25582892,  0.44316389,  0.68967267],\n",
       "       [-0.01117388,  2.09801686, -1.4479234 , -1.31260282],\n",
       "       [-0.01117388, -1.0322392 ,  0.15663551,  0.02224751],\n",
       "       [ 1.57348593, -0.13788033,  1.24544335,  1.22361279]])"
      ]
     },
     "execution_count": 41,
     "metadata": {},
     "output_type": "execute_result"
    }
   ],
   "source": [
    "scaler.fit_transform(x_train,y_train)"
   ]
  },
  {
   "cell_type": "code",
   "execution_count": null,
   "id": "d9c2d5f2-90f4-4867-b40f-1d10c73a4362",
   "metadata": {},
   "outputs": [],
   "source": []
  },
  {
   "cell_type": "markdown",
   "id": "193b22ba-463d-4465-94f3-06acf3c7eb68",
   "metadata": {
    "tags": []
   },
   "source": [
    "##### Create an instance of the SVC classifier and train it on the training data"
   ]
  },
  {
   "cell_type": "code",
   "execution_count": 42,
   "id": "32aac264-190b-435e-8a05-37d043d058bd",
   "metadata": {},
   "outputs": [],
   "source": [
    "from sklearn.svm import SVC"
   ]
  },
  {
   "cell_type": "code",
   "execution_count": 43,
   "id": "a2116bcc-cb00-4d23-a650-574c7b4b3503",
   "metadata": {},
   "outputs": [],
   "source": [
    "svm=SVC()"
   ]
  },
  {
   "cell_type": "code",
   "execution_count": 44,
   "id": "d729e1ae-a24d-42b7-bcc0-563178425447",
   "metadata": {},
   "outputs": [
    {
     "data": {
      "text/html": [
       "<style>#sk-container-id-2 {color: black;background-color: white;}#sk-container-id-2 pre{padding: 0;}#sk-container-id-2 div.sk-toggleable {background-color: white;}#sk-container-id-2 label.sk-toggleable__label {cursor: pointer;display: block;width: 100%;margin-bottom: 0;padding: 0.3em;box-sizing: border-box;text-align: center;}#sk-container-id-2 label.sk-toggleable__label-arrow:before {content: \"▸\";float: left;margin-right: 0.25em;color: #696969;}#sk-container-id-2 label.sk-toggleable__label-arrow:hover:before {color: black;}#sk-container-id-2 div.sk-estimator:hover label.sk-toggleable__label-arrow:before {color: black;}#sk-container-id-2 div.sk-toggleable__content {max-height: 0;max-width: 0;overflow: hidden;text-align: left;background-color: #f0f8ff;}#sk-container-id-2 div.sk-toggleable__content pre {margin: 0.2em;color: black;border-radius: 0.25em;background-color: #f0f8ff;}#sk-container-id-2 input.sk-toggleable__control:checked~div.sk-toggleable__content {max-height: 200px;max-width: 100%;overflow: auto;}#sk-container-id-2 input.sk-toggleable__control:checked~label.sk-toggleable__label-arrow:before {content: \"▾\";}#sk-container-id-2 div.sk-estimator input.sk-toggleable__control:checked~label.sk-toggleable__label {background-color: #d4ebff;}#sk-container-id-2 div.sk-label input.sk-toggleable__control:checked~label.sk-toggleable__label {background-color: #d4ebff;}#sk-container-id-2 input.sk-hidden--visually {border: 0;clip: rect(1px 1px 1px 1px);clip: rect(1px, 1px, 1px, 1px);height: 1px;margin: -1px;overflow: hidden;padding: 0;position: absolute;width: 1px;}#sk-container-id-2 div.sk-estimator {font-family: monospace;background-color: #f0f8ff;border: 1px dotted black;border-radius: 0.25em;box-sizing: border-box;margin-bottom: 0.5em;}#sk-container-id-2 div.sk-estimator:hover {background-color: #d4ebff;}#sk-container-id-2 div.sk-parallel-item::after {content: \"\";width: 100%;border-bottom: 1px solid gray;flex-grow: 1;}#sk-container-id-2 div.sk-label:hover label.sk-toggleable__label {background-color: #d4ebff;}#sk-container-id-2 div.sk-serial::before {content: \"\";position: absolute;border-left: 1px solid gray;box-sizing: border-box;top: 0;bottom: 0;left: 50%;z-index: 0;}#sk-container-id-2 div.sk-serial {display: flex;flex-direction: column;align-items: center;background-color: white;padding-right: 0.2em;padding-left: 0.2em;position: relative;}#sk-container-id-2 div.sk-item {position: relative;z-index: 1;}#sk-container-id-2 div.sk-parallel {display: flex;align-items: stretch;justify-content: center;background-color: white;position: relative;}#sk-container-id-2 div.sk-item::before, #sk-container-id-2 div.sk-parallel-item::before {content: \"\";position: absolute;border-left: 1px solid gray;box-sizing: border-box;top: 0;bottom: 0;left: 50%;z-index: -1;}#sk-container-id-2 div.sk-parallel-item {display: flex;flex-direction: column;z-index: 1;position: relative;background-color: white;}#sk-container-id-2 div.sk-parallel-item:first-child::after {align-self: flex-end;width: 50%;}#sk-container-id-2 div.sk-parallel-item:last-child::after {align-self: flex-start;width: 50%;}#sk-container-id-2 div.sk-parallel-item:only-child::after {width: 0;}#sk-container-id-2 div.sk-dashed-wrapped {border: 1px dashed gray;margin: 0 0.4em 0.5em 0.4em;box-sizing: border-box;padding-bottom: 0.4em;background-color: white;}#sk-container-id-2 div.sk-label label {font-family: monospace;font-weight: bold;display: inline-block;line-height: 1.2em;}#sk-container-id-2 div.sk-label-container {text-align: center;}#sk-container-id-2 div.sk-container {/* jupyter's `normalize.less` sets `[hidden] { display: none; }` but bootstrap.min.css set `[hidden] { display: none !important; }` so we also need the `!important` here to be able to override the default hidden behavior on the sphinx rendered scikit-learn.org. See: https://github.com/scikit-learn/scikit-learn/issues/21755 */display: inline-block !important;position: relative;}#sk-container-id-2 div.sk-text-repr-fallback {display: none;}</style><div id=\"sk-container-id-2\" class=\"sk-top-container\"><div class=\"sk-text-repr-fallback\"><pre>SVC()</pre><b>In a Jupyter environment, please rerun this cell to show the HTML representation or trust the notebook. <br />On GitHub, the HTML representation is unable to render, please try loading this page with nbviewer.org.</b></div><div class=\"sk-container\" hidden><div class=\"sk-item\"><div class=\"sk-estimator sk-toggleable\"><input class=\"sk-toggleable__control sk-hidden--visually\" id=\"sk-estimator-id-4\" type=\"checkbox\" checked><label for=\"sk-estimator-id-4\" class=\"sk-toggleable__label sk-toggleable__label-arrow\">SVC</label><div class=\"sk-toggleable__content\"><pre>SVC()</pre></div></div></div></div></div>"
      ],
      "text/plain": [
       "SVC()"
      ]
     },
     "execution_count": 44,
     "metadata": {},
     "output_type": "execute_result"
    }
   ],
   "source": [
    "svm.fit(x_train,y_train)"
   ]
  },
  {
   "cell_type": "markdown",
   "id": "41b28ba3-b706-40a0-b40a-c6c02dfe9afd",
   "metadata": {
    "tags": []
   },
   "source": [
    "##### Use the trained classifier to predict the labels of the testing data"
   ]
  },
  {
   "cell_type": "code",
   "execution_count": 45,
   "id": "e248ed0f-727b-42b5-9453-5fa2d35fb4f5",
   "metadata": {},
   "outputs": [],
   "source": [
    "y_pred=svm.predict(x_test)"
   ]
  },
  {
   "cell_type": "code",
   "execution_count": 46,
   "id": "bbe9239e-80fd-4d2c-958e-ffd576679e42",
   "metadata": {},
   "outputs": [
    {
     "name": "stdout",
     "output_type": "stream",
     "text": [
      "Predicted Labels: [1 0 2 1 1 0 1 2 1 1 2 0 0 0 0 1 2 1 1 2 0 2 0 2 2 2 2 2 0 0]\n"
     ]
    }
   ],
   "source": [
    "print(\"Predicted Labels:\",y_pred)"
   ]
  },
  {
   "cell_type": "markdown",
   "id": "8c967bc5-063e-4bea-a86d-219379fb41b2",
   "metadata": {
    "tags": []
   },
   "source": [
    "##### Evaluate the performance of the classifier using any metric of your choice (e.g. accuracy,precision, recall, F1-score)"
   ]
  },
  {
   "cell_type": "code",
   "execution_count": 47,
   "id": "d39041b9-546a-422d-9bb8-c8e92f4d244c",
   "metadata": {},
   "outputs": [],
   "source": [
    "from sklearn.metrics import accuracy_score,precision_score,recall_score,f1_score"
   ]
  },
  {
   "cell_type": "code",
   "execution_count": 48,
   "id": "790b1105-7572-4ff0-8787-47f008eb4291",
   "metadata": {},
   "outputs": [
    {
     "name": "stdout",
     "output_type": "stream",
     "text": [
      "Accuracy: 1.0\n",
      "Precision: 1.0\n",
      "Recall: 1.0\n",
      "F1-Score 1.0\n"
     ]
    }
   ],
   "source": [
    "print(\"Accuracy:\",accuracy_score(y_test,y_pred))\n",
    "print(\"Precision:\",precision_score(y_test,y_pred,average='weighted'))\n",
    "print(\"Recall:\",recall_score(y_test,y_pred,average='weighted'))\n",
    "print(\"F1-Score\",f1_score(y_test,y_pred,average='weighted'))"
   ]
  },
  {
   "cell_type": "markdown",
   "id": "61c0438b-16d0-464a-ae5b-9045dec2e55a",
   "metadata": {},
   "source": [
    "##### Tune the hyperparameters of the SVC classifier using GridSearchCV or RandomiMedSearchCV to improve its performance"
   ]
  },
  {
   "cell_type": "code",
   "execution_count": 49,
   "id": "b5373c0d-fd4a-4a27-bd62-9ea301a79837",
   "metadata": {},
   "outputs": [],
   "source": [
    "from sklearn.model_selection import GridSearchCV\n",
    "from sklearn.svm import SVC"
   ]
  },
  {
   "cell_type": "code",
   "execution_count": 50,
   "id": "8fab5a9d-a7ec-42c3-817d-8a96b819c54c",
   "metadata": {},
   "outputs": [],
   "source": [
    "svm_classifier=SVC()"
   ]
  },
  {
   "cell_type": "code",
   "execution_count": 51,
   "id": "3a0b77bc-03d7-4fbc-86ea-fc59c581f237",
   "metadata": {},
   "outputs": [],
   "source": [
    "from sklearn.datasets import load_iris"
   ]
  },
  {
   "cell_type": "code",
   "execution_count": 52,
   "id": "9c16d1c4-c191-4cba-ad41-43cc3a3f52c0",
   "metadata": {},
   "outputs": [],
   "source": [
    "iris1=load_iris()"
   ]
  },
  {
   "cell_type": "code",
   "execution_count": 53,
   "id": "896e71b6-1f61-4aa2-9367-b22fe9909d0b",
   "metadata": {},
   "outputs": [],
   "source": [
    "x1=iris1.data\n",
    "y1=iris1.target"
   ]
  },
  {
   "cell_type": "code",
   "execution_count": 54,
   "id": "06ba7335-bc80-4e28-85b6-600e9877124d",
   "metadata": {},
   "outputs": [],
   "source": [
    "parameter={'C':[1,9,13],'kernel':['linear', 'poly', 'rbf', 'sigmoid'],\n",
    "          'gamma':['scale', 'auto'],'decision_function_shape':['ovo', 'ovr'] }"
   ]
  },
  {
   "cell_type": "code",
   "execution_count": 55,
   "id": "9333b03a-4f4f-4c3d-af7b-27c8336ff7d4",
   "metadata": {},
   "outputs": [],
   "source": [
    "grid_search=GridSearchCV(svm_classifier,param_grid=parameter,cv=5,verbose=3)"
   ]
  },
  {
   "cell_type": "code",
   "execution_count": 56,
   "id": "e1ebc5ab-d145-47b1-b5a1-878be03b7a37",
   "metadata": {},
   "outputs": [],
   "source": [
    "from sklearn.model_selection import train_test_split"
   ]
  },
  {
   "cell_type": "code",
   "execution_count": 57,
   "id": "efddc0bc-08c3-476b-8748-c8deaa0d172b",
   "metadata": {},
   "outputs": [],
   "source": [
    "x1_train,x1_test,y1_train,y1_test=train_test_split(x1,y1,test_size=0.2,random_state=42)"
   ]
  },
  {
   "cell_type": "code",
   "execution_count": 58,
   "id": "4fd911ea-bb27-47ee-84c0-3b470aa7a404",
   "metadata": {},
   "outputs": [
    {
     "name": "stdout",
     "output_type": "stream",
     "text": [
      "Fitting 5 folds for each of 48 candidates, totalling 240 fits\n",
      "[CV 1/5] END C=1, decision_function_shape=ovo, gamma=scale, kernel=linear;, score=1.000 total time=   0.0s\n",
      "[CV 2/5] END C=1, decision_function_shape=ovo, gamma=scale, kernel=linear;, score=0.958 total time=   0.0s\n",
      "[CV 3/5] END C=1, decision_function_shape=ovo, gamma=scale, kernel=linear;, score=0.875 total time=   0.0s\n",
      "[CV 4/5] END C=1, decision_function_shape=ovo, gamma=scale, kernel=linear;, score=1.000 total time=   0.0s\n",
      "[CV 5/5] END C=1, decision_function_shape=ovo, gamma=scale, kernel=linear;, score=0.958 total time=   0.0s\n",
      "[CV 1/5] END C=1, decision_function_shape=ovo, gamma=scale, kernel=poly;, score=1.000 total time=   0.0s\n",
      "[CV 2/5] END C=1, decision_function_shape=ovo, gamma=scale, kernel=poly;, score=0.958 total time=   0.0s\n",
      "[CV 3/5] END C=1, decision_function_shape=ovo, gamma=scale, kernel=poly;, score=0.833 total time=   0.0s\n",
      "[CV 4/5] END C=1, decision_function_shape=ovo, gamma=scale, kernel=poly;, score=0.958 total time=   0.0s\n",
      "[CV 5/5] END C=1, decision_function_shape=ovo, gamma=scale, kernel=poly;, score=1.000 total time=   0.0s\n",
      "[CV 1/5] END C=1, decision_function_shape=ovo, gamma=scale, kernel=rbf;, score=1.000 total time=   0.0s\n",
      "[CV 2/5] END C=1, decision_function_shape=ovo, gamma=scale, kernel=rbf;, score=0.958 total time=   0.0s\n",
      "[CV 3/5] END C=1, decision_function_shape=ovo, gamma=scale, kernel=rbf;, score=0.833 total time=   0.0s\n",
      "[CV 4/5] END C=1, decision_function_shape=ovo, gamma=scale, kernel=rbf;, score=1.000 total time=   0.0s\n",
      "[CV 5/5] END C=1, decision_function_shape=ovo, gamma=scale, kernel=rbf;, score=0.958 total time=   0.0s\n",
      "[CV 1/5] END C=1, decision_function_shape=ovo, gamma=scale, kernel=sigmoid;, score=0.125 total time=   0.0s\n",
      "[CV 2/5] END C=1, decision_function_shape=ovo, gamma=scale, kernel=sigmoid;, score=0.333 total time=   0.0s\n",
      "[CV 3/5] END C=1, decision_function_shape=ovo, gamma=scale, kernel=sigmoid;, score=0.333 total time=   0.0s\n",
      "[CV 4/5] END C=1, decision_function_shape=ovo, gamma=scale, kernel=sigmoid;, score=0.333 total time=   0.0s\n",
      "[CV 5/5] END C=1, decision_function_shape=ovo, gamma=scale, kernel=sigmoid;, score=0.333 total time=   0.0s\n",
      "[CV 1/5] END C=1, decision_function_shape=ovo, gamma=auto, kernel=linear;, score=1.000 total time=   0.0s\n",
      "[CV 2/5] END C=1, decision_function_shape=ovo, gamma=auto, kernel=linear;, score=0.958 total time=   0.0s\n",
      "[CV 3/5] END C=1, decision_function_shape=ovo, gamma=auto, kernel=linear;, score=0.875 total time=   0.0s\n",
      "[CV 4/5] END C=1, decision_function_shape=ovo, gamma=auto, kernel=linear;, score=1.000 total time=   0.0s\n",
      "[CV 5/5] END C=1, decision_function_shape=ovo, gamma=auto, kernel=linear;, score=0.958 total time=   0.0s\n",
      "[CV 1/5] END C=1, decision_function_shape=ovo, gamma=auto, kernel=poly;, score=0.958 total time=   0.0s\n",
      "[CV 2/5] END C=1, decision_function_shape=ovo, gamma=auto, kernel=poly;, score=1.000 total time=   0.0s\n",
      "[CV 3/5] END C=1, decision_function_shape=ovo, gamma=auto, kernel=poly;, score=0.833 total time=   0.0s\n",
      "[CV 4/5] END C=1, decision_function_shape=ovo, gamma=auto, kernel=poly;, score=0.958 total time=   0.0s\n",
      "[CV 5/5] END C=1, decision_function_shape=ovo, gamma=auto, kernel=poly;, score=1.000 total time=   0.0s\n",
      "[CV 1/5] END C=1, decision_function_shape=ovo, gamma=auto, kernel=rbf;, score=1.000 total time=   0.0s\n",
      "[CV 2/5] END C=1, decision_function_shape=ovo, gamma=auto, kernel=rbf;, score=0.958 total time=   0.0s\n",
      "[CV 3/5] END C=1, decision_function_shape=ovo, gamma=auto, kernel=rbf;, score=0.833 total time=   0.0s\n",
      "[CV 4/5] END C=1, decision_function_shape=ovo, gamma=auto, kernel=rbf;, score=1.000 total time=   0.0s\n",
      "[CV 5/5] END C=1, decision_function_shape=ovo, gamma=auto, kernel=rbf;, score=0.958 total time=   0.0s\n",
      "[CV 1/5] END C=1, decision_function_shape=ovo, gamma=auto, kernel=sigmoid;, score=0.042 total time=   0.0s\n",
      "[CV 2/5] END C=1, decision_function_shape=ovo, gamma=auto, kernel=sigmoid;, score=0.333 total time=   0.0s\n",
      "[CV 3/5] END C=1, decision_function_shape=ovo, gamma=auto, kernel=sigmoid;, score=0.333 total time=   0.0s\n",
      "[CV 4/5] END C=1, decision_function_shape=ovo, gamma=auto, kernel=sigmoid;, score=0.333 total time=   0.0s\n",
      "[CV 5/5] END C=1, decision_function_shape=ovo, gamma=auto, kernel=sigmoid;, score=0.333 total time=   0.0s\n",
      "[CV 1/5] END C=1, decision_function_shape=ovr, gamma=scale, kernel=linear;, score=1.000 total time=   0.0s\n",
      "[CV 2/5] END C=1, decision_function_shape=ovr, gamma=scale, kernel=linear;, score=0.958 total time=   0.0s\n",
      "[CV 3/5] END C=1, decision_function_shape=ovr, gamma=scale, kernel=linear;, score=0.875 total time=   0.0s\n",
      "[CV 4/5] END C=1, decision_function_shape=ovr, gamma=scale, kernel=linear;, score=1.000 total time=   0.0s\n",
      "[CV 5/5] END C=1, decision_function_shape=ovr, gamma=scale, kernel=linear;, score=0.958 total time=   0.0s\n",
      "[CV 1/5] END C=1, decision_function_shape=ovr, gamma=scale, kernel=poly;, score=1.000 total time=   0.0s\n",
      "[CV 2/5] END C=1, decision_function_shape=ovr, gamma=scale, kernel=poly;, score=0.958 total time=   0.0s\n",
      "[CV 3/5] END C=1, decision_function_shape=ovr, gamma=scale, kernel=poly;, score=0.833 total time=   0.0s\n",
      "[CV 4/5] END C=1, decision_function_shape=ovr, gamma=scale, kernel=poly;, score=0.958 total time=   0.0s\n",
      "[CV 5/5] END C=1, decision_function_shape=ovr, gamma=scale, kernel=poly;, score=1.000 total time=   0.0s\n",
      "[CV 1/5] END C=1, decision_function_shape=ovr, gamma=scale, kernel=rbf;, score=1.000 total time=   0.0s\n",
      "[CV 2/5] END C=1, decision_function_shape=ovr, gamma=scale, kernel=rbf;, score=0.958 total time=   0.0s\n",
      "[CV 3/5] END C=1, decision_function_shape=ovr, gamma=scale, kernel=rbf;, score=0.833 total time=   0.0s\n",
      "[CV 4/5] END C=1, decision_function_shape=ovr, gamma=scale, kernel=rbf;, score=1.000 total time=   0.0s\n",
      "[CV 5/5] END C=1, decision_function_shape=ovr, gamma=scale, kernel=rbf;, score=0.958 total time=   0.0s\n",
      "[CV 1/5] END C=1, decision_function_shape=ovr, gamma=scale, kernel=sigmoid;, score=0.125 total time=   0.0s\n",
      "[CV 2/5] END C=1, decision_function_shape=ovr, gamma=scale, kernel=sigmoid;, score=0.333 total time=   0.0s\n",
      "[CV 3/5] END C=1, decision_function_shape=ovr, gamma=scale, kernel=sigmoid;, score=0.333 total time=   0.0s\n",
      "[CV 4/5] END C=1, decision_function_shape=ovr, gamma=scale, kernel=sigmoid;, score=0.333 total time=   0.0s\n",
      "[CV 5/5] END C=1, decision_function_shape=ovr, gamma=scale, kernel=sigmoid;, score=0.333 total time=   0.0s\n",
      "[CV 1/5] END C=1, decision_function_shape=ovr, gamma=auto, kernel=linear;, score=1.000 total time=   0.0s\n",
      "[CV 2/5] END C=1, decision_function_shape=ovr, gamma=auto, kernel=linear;, score=0.958 total time=   0.0s\n",
      "[CV 3/5] END C=1, decision_function_shape=ovr, gamma=auto, kernel=linear;, score=0.875 total time=   0.0s\n",
      "[CV 4/5] END C=1, decision_function_shape=ovr, gamma=auto, kernel=linear;, score=1.000 total time=   0.0s\n",
      "[CV 5/5] END C=1, decision_function_shape=ovr, gamma=auto, kernel=linear;, score=0.958 total time=   0.0s\n",
      "[CV 1/5] END C=1, decision_function_shape=ovr, gamma=auto, kernel=poly;, score=0.958 total time=   0.0s\n",
      "[CV 2/5] END C=1, decision_function_shape=ovr, gamma=auto, kernel=poly;, score=1.000 total time=   0.0s\n",
      "[CV 3/5] END C=1, decision_function_shape=ovr, gamma=auto, kernel=poly;, score=0.833 total time=   0.0s\n",
      "[CV 4/5] END C=1, decision_function_shape=ovr, gamma=auto, kernel=poly;, score=0.958 total time=   0.0s\n",
      "[CV 5/5] END C=1, decision_function_shape=ovr, gamma=auto, kernel=poly;, score=1.000 total time=   0.0s\n",
      "[CV 1/5] END C=1, decision_function_shape=ovr, gamma=auto, kernel=rbf;, score=1.000 total time=   0.0s\n",
      "[CV 2/5] END C=1, decision_function_shape=ovr, gamma=auto, kernel=rbf;, score=0.958 total time=   0.0s\n",
      "[CV 3/5] END C=1, decision_function_shape=ovr, gamma=auto, kernel=rbf;, score=0.833 total time=   0.0s\n",
      "[CV 4/5] END C=1, decision_function_shape=ovr, gamma=auto, kernel=rbf;, score=1.000 total time=   0.0s\n",
      "[CV 5/5] END C=1, decision_function_shape=ovr, gamma=auto, kernel=rbf;, score=0.958 total time=   0.0s\n",
      "[CV 1/5] END C=1, decision_function_shape=ovr, gamma=auto, kernel=sigmoid;, score=0.042 total time=   0.0s\n",
      "[CV 2/5] END C=1, decision_function_shape=ovr, gamma=auto, kernel=sigmoid;, score=0.333 total time=   0.0s\n",
      "[CV 3/5] END C=1, decision_function_shape=ovr, gamma=auto, kernel=sigmoid;, score=0.333 total time=   0.0s\n",
      "[CV 4/5] END C=1, decision_function_shape=ovr, gamma=auto, kernel=sigmoid;, score=0.333 total time=   0.0s\n",
      "[CV 5/5] END C=1, decision_function_shape=ovr, gamma=auto, kernel=sigmoid;, score=0.333 total time=   0.0s\n",
      "[CV 1/5] END C=9, decision_function_shape=ovo, gamma=scale, kernel=linear;, score=1.000 total time=   0.0s\n",
      "[CV 2/5] END C=9, decision_function_shape=ovo, gamma=scale, kernel=linear;, score=0.958 total time=   0.0s\n",
      "[CV 3/5] END C=9, decision_function_shape=ovo, gamma=scale, kernel=linear;, score=0.833 total time=   0.0s\n",
      "[CV 4/5] END C=9, decision_function_shape=ovo, gamma=scale, kernel=linear;, score=0.958 total time=   0.0s\n",
      "[CV 5/5] END C=9, decision_function_shape=ovo, gamma=scale, kernel=linear;, score=1.000 total time=   0.0s\n",
      "[CV 1/5] END C=9, decision_function_shape=ovo, gamma=scale, kernel=poly;, score=0.958 total time=   0.0s\n",
      "[CV 2/5] END C=9, decision_function_shape=ovo, gamma=scale, kernel=poly;, score=0.958 total time=   0.0s\n",
      "[CV 3/5] END C=9, decision_function_shape=ovo, gamma=scale, kernel=poly;, score=0.833 total time=   0.0s\n",
      "[CV 4/5] END C=9, decision_function_shape=ovo, gamma=scale, kernel=poly;, score=0.958 total time=   0.0s\n",
      "[CV 5/5] END C=9, decision_function_shape=ovo, gamma=scale, kernel=poly;, score=0.958 total time=   0.0s\n",
      "[CV 1/5] END C=9, decision_function_shape=ovo, gamma=scale, kernel=rbf;, score=0.958 total time=   0.0s\n",
      "[CV 2/5] END C=9, decision_function_shape=ovo, gamma=scale, kernel=rbf;, score=0.958 total time=   0.0s\n",
      "[CV 3/5] END C=9, decision_function_shape=ovo, gamma=scale, kernel=rbf;, score=0.833 total time=   0.0s\n",
      "[CV 4/5] END C=9, decision_function_shape=ovo, gamma=scale, kernel=rbf;, score=1.000 total time=   0.0s\n",
      "[CV 5/5] END C=9, decision_function_shape=ovo, gamma=scale, kernel=rbf;, score=0.958 total time=   0.0s\n",
      "[CV 1/5] END C=9, decision_function_shape=ovo, gamma=scale, kernel=sigmoid;, score=0.125 total time=   0.0s\n",
      "[CV 2/5] END C=9, decision_function_shape=ovo, gamma=scale, kernel=sigmoid;, score=0.208 total time=   0.0s\n",
      "[CV 3/5] END C=9, decision_function_shape=ovo, gamma=scale, kernel=sigmoid;, score=0.208 total time=   0.0s\n",
      "[CV 4/5] END C=9, decision_function_shape=ovo, gamma=scale, kernel=sigmoid;, score=0.125 total time=   0.0s\n",
      "[CV 5/5] END C=9, decision_function_shape=ovo, gamma=scale, kernel=sigmoid;, score=0.250 total time=   0.0s\n",
      "[CV 1/5] END C=9, decision_function_shape=ovo, gamma=auto, kernel=linear;, score=1.000 total time=   0.0s\n",
      "[CV 2/5] END C=9, decision_function_shape=ovo, gamma=auto, kernel=linear;, score=0.958 total time=   0.0s\n",
      "[CV 3/5] END C=9, decision_function_shape=ovo, gamma=auto, kernel=linear;, score=0.833 total time=   0.0s\n",
      "[CV 4/5] END C=9, decision_function_shape=ovo, gamma=auto, kernel=linear;, score=0.958 total time=   0.0s\n",
      "[CV 5/5] END C=9, decision_function_shape=ovo, gamma=auto, kernel=linear;, score=1.000 total time=   0.0s\n",
      "[CV 1/5] END C=9, decision_function_shape=ovo, gamma=auto, kernel=poly;, score=0.958 total time=   0.0s\n",
      "[CV 2/5] END C=9, decision_function_shape=ovo, gamma=auto, kernel=poly;, score=1.000 total time=   0.0s\n",
      "[CV 3/5] END C=9, decision_function_shape=ovo, gamma=auto, kernel=poly;, score=0.833 total time=   0.0s\n",
      "[CV 4/5] END C=9, decision_function_shape=ovo, gamma=auto, kernel=poly;, score=0.958 total time=   0.0s\n",
      "[CV 5/5] END C=9, decision_function_shape=ovo, gamma=auto, kernel=poly;, score=0.958 total time=   0.0s\n",
      "[CV 1/5] END C=9, decision_function_shape=ovo, gamma=auto, kernel=rbf;, score=1.000 total time=   0.0s\n",
      "[CV 2/5] END C=9, decision_function_shape=ovo, gamma=auto, kernel=rbf;, score=0.958 total time=   0.0s\n",
      "[CV 3/5] END C=9, decision_function_shape=ovo, gamma=auto, kernel=rbf;, score=0.833 total time=   0.0s\n",
      "[CV 4/5] END C=9, decision_function_shape=ovo, gamma=auto, kernel=rbf;, score=1.000 total time=   0.0s\n",
      "[CV 5/5] END C=9, decision_function_shape=ovo, gamma=auto, kernel=rbf;, score=1.000 total time=   0.0s\n",
      "[CV 1/5] END C=9, decision_function_shape=ovo, gamma=auto, kernel=sigmoid;, score=0.042 total time=   0.0s\n",
      "[CV 2/5] END C=9, decision_function_shape=ovo, gamma=auto, kernel=sigmoid;, score=0.333 total time=   0.0s\n",
      "[CV 3/5] END C=9, decision_function_shape=ovo, gamma=auto, kernel=sigmoid;, score=0.333 total time=   0.0s\n",
      "[CV 4/5] END C=9, decision_function_shape=ovo, gamma=auto, kernel=sigmoid;, score=0.333 total time=   0.0s\n",
      "[CV 5/5] END C=9, decision_function_shape=ovo, gamma=auto, kernel=sigmoid;, score=0.333 total time=   0.0s\n",
      "[CV 1/5] END C=9, decision_function_shape=ovr, gamma=scale, kernel=linear;, score=1.000 total time=   0.0s\n",
      "[CV 2/5] END C=9, decision_function_shape=ovr, gamma=scale, kernel=linear;, score=0.958 total time=   0.0s\n",
      "[CV 3/5] END C=9, decision_function_shape=ovr, gamma=scale, kernel=linear;, score=0.833 total time=   0.0s\n",
      "[CV 4/5] END C=9, decision_function_shape=ovr, gamma=scale, kernel=linear;, score=0.958 total time=   0.0s\n",
      "[CV 5/5] END C=9, decision_function_shape=ovr, gamma=scale, kernel=linear;, score=1.000 total time=   0.0s\n",
      "[CV 1/5] END C=9, decision_function_shape=ovr, gamma=scale, kernel=poly;, score=0.958 total time=   0.0s\n",
      "[CV 2/5] END C=9, decision_function_shape=ovr, gamma=scale, kernel=poly;, score=0.958 total time=   0.0s\n",
      "[CV 3/5] END C=9, decision_function_shape=ovr, gamma=scale, kernel=poly;, score=0.833 total time=   0.0s\n",
      "[CV 4/5] END C=9, decision_function_shape=ovr, gamma=scale, kernel=poly;, score=0.958 total time=   0.0s\n",
      "[CV 5/5] END C=9, decision_function_shape=ovr, gamma=scale, kernel=poly;, score=0.958 total time=   0.0s\n",
      "[CV 1/5] END C=9, decision_function_shape=ovr, gamma=scale, kernel=rbf;, score=0.958 total time=   0.0s\n",
      "[CV 2/5] END C=9, decision_function_shape=ovr, gamma=scale, kernel=rbf;, score=0.958 total time=   0.0s\n",
      "[CV 3/5] END C=9, decision_function_shape=ovr, gamma=scale, kernel=rbf;, score=0.833 total time=   0.0s\n",
      "[CV 4/5] END C=9, decision_function_shape=ovr, gamma=scale, kernel=rbf;, score=1.000 total time=   0.0s\n",
      "[CV 5/5] END C=9, decision_function_shape=ovr, gamma=scale, kernel=rbf;, score=0.958 total time=   0.0s\n",
      "[CV 1/5] END C=9, decision_function_shape=ovr, gamma=scale, kernel=sigmoid;, score=0.125 total time=   0.0s\n",
      "[CV 2/5] END C=9, decision_function_shape=ovr, gamma=scale, kernel=sigmoid;, score=0.208 total time=   0.0s\n",
      "[CV 3/5] END C=9, decision_function_shape=ovr, gamma=scale, kernel=sigmoid;, score=0.208 total time=   0.0s\n",
      "[CV 4/5] END C=9, decision_function_shape=ovr, gamma=scale, kernel=sigmoid;, score=0.125 total time=   0.0s\n",
      "[CV 5/5] END C=9, decision_function_shape=ovr, gamma=scale, kernel=sigmoid;, score=0.250 total time=   0.0s\n",
      "[CV 1/5] END C=9, decision_function_shape=ovr, gamma=auto, kernel=linear;, score=1.000 total time=   0.0s\n",
      "[CV 2/5] END C=9, decision_function_shape=ovr, gamma=auto, kernel=linear;, score=0.958 total time=   0.0s\n",
      "[CV 3/5] END C=9, decision_function_shape=ovr, gamma=auto, kernel=linear;, score=0.833 total time=   0.0s\n",
      "[CV 4/5] END C=9, decision_function_shape=ovr, gamma=auto, kernel=linear;, score=0.958 total time=   0.0s\n",
      "[CV 5/5] END C=9, decision_function_shape=ovr, gamma=auto, kernel=linear;, score=1.000 total time=   0.0s\n",
      "[CV 1/5] END C=9, decision_function_shape=ovr, gamma=auto, kernel=poly;, score=0.958 total time=   0.0s\n",
      "[CV 2/5] END C=9, decision_function_shape=ovr, gamma=auto, kernel=poly;, score=1.000 total time=   0.0s\n",
      "[CV 3/5] END C=9, decision_function_shape=ovr, gamma=auto, kernel=poly;, score=0.833 total time=   0.0s\n",
      "[CV 4/5] END C=9, decision_function_shape=ovr, gamma=auto, kernel=poly;, score=0.958 total time=   0.0s\n",
      "[CV 5/5] END C=9, decision_function_shape=ovr, gamma=auto, kernel=poly;, score=0.958 total time=   0.0s\n",
      "[CV 1/5] END C=9, decision_function_shape=ovr, gamma=auto, kernel=rbf;, score=1.000 total time=   0.0s\n",
      "[CV 2/5] END C=9, decision_function_shape=ovr, gamma=auto, kernel=rbf;, score=0.958 total time=   0.0s\n",
      "[CV 3/5] END C=9, decision_function_shape=ovr, gamma=auto, kernel=rbf;, score=0.833 total time=   0.0s\n",
      "[CV 4/5] END C=9, decision_function_shape=ovr, gamma=auto, kernel=rbf;, score=1.000 total time=   0.0s\n",
      "[CV 5/5] END C=9, decision_function_shape=ovr, gamma=auto, kernel=rbf;, score=1.000 total time=   0.0s\n",
      "[CV 1/5] END C=9, decision_function_shape=ovr, gamma=auto, kernel=sigmoid;, score=0.042 total time=   0.0s\n",
      "[CV 2/5] END C=9, decision_function_shape=ovr, gamma=auto, kernel=sigmoid;, score=0.333 total time=   0.0s\n",
      "[CV 3/5] END C=9, decision_function_shape=ovr, gamma=auto, kernel=sigmoid;, score=0.333 total time=   0.0s\n",
      "[CV 4/5] END C=9, decision_function_shape=ovr, gamma=auto, kernel=sigmoid;, score=0.333 total time=   0.0s\n",
      "[CV 5/5] END C=9, decision_function_shape=ovr, gamma=auto, kernel=sigmoid;, score=0.333 total time=   0.0s\n",
      "[CV 1/5] END C=13, decision_function_shape=ovo, gamma=scale, kernel=linear;, score=0.958 total time=   0.0s\n",
      "[CV 2/5] END C=13, decision_function_shape=ovo, gamma=scale, kernel=linear;, score=0.958 total time=   0.0s\n",
      "[CV 3/5] END C=13, decision_function_shape=ovo, gamma=scale, kernel=linear;, score=0.833 total time=   0.0s\n",
      "[CV 4/5] END C=13, decision_function_shape=ovo, gamma=scale, kernel=linear;, score=1.000 total time=   0.0s\n",
      "[CV 5/5] END C=13, decision_function_shape=ovo, gamma=scale, kernel=linear;, score=1.000 total time=   0.0s\n",
      "[CV 1/5] END C=13, decision_function_shape=ovo, gamma=scale, kernel=poly;, score=0.958 total time=   0.0s\n",
      "[CV 2/5] END C=13, decision_function_shape=ovo, gamma=scale, kernel=poly;, score=0.958 total time=   0.0s\n",
      "[CV 3/5] END C=13, decision_function_shape=ovo, gamma=scale, kernel=poly;, score=0.833 total time=   0.0s\n",
      "[CV 4/5] END C=13, decision_function_shape=ovo, gamma=scale, kernel=poly;, score=0.958 total time=   0.0s\n",
      "[CV 5/5] END C=13, decision_function_shape=ovo, gamma=scale, kernel=poly;, score=0.958 total time=   0.0s\n",
      "[CV 1/5] END C=13, decision_function_shape=ovo, gamma=scale, kernel=rbf;, score=1.000 total time=   0.0s\n",
      "[CV 2/5] END C=13, decision_function_shape=ovo, gamma=scale, kernel=rbf;, score=0.958 total time=   0.0s\n",
      "[CV 3/5] END C=13, decision_function_shape=ovo, gamma=scale, kernel=rbf;, score=0.833 total time=   0.0s\n",
      "[CV 4/5] END C=13, decision_function_shape=ovo, gamma=scale, kernel=rbf;, score=1.000 total time=   0.0s\n",
      "[CV 5/5] END C=13, decision_function_shape=ovo, gamma=scale, kernel=rbf;, score=0.958 total time=   0.0s\n",
      "[CV 1/5] END C=13, decision_function_shape=ovo, gamma=scale, kernel=sigmoid;, score=0.125 total time=   0.0s\n",
      "[CV 2/5] END C=13, decision_function_shape=ovo, gamma=scale, kernel=sigmoid;, score=0.250 total time=   0.0s\n",
      "[CV 3/5] END C=13, decision_function_shape=ovo, gamma=scale, kernel=sigmoid;, score=0.208 total time=   0.0s\n",
      "[CV 4/5] END C=13, decision_function_shape=ovo, gamma=scale, kernel=sigmoid;, score=0.042 total time=   0.0s\n",
      "[CV 5/5] END C=13, decision_function_shape=ovo, gamma=scale, kernel=sigmoid;, score=0.167 total time=   0.0s\n",
      "[CV 1/5] END C=13, decision_function_shape=ovo, gamma=auto, kernel=linear;, score=0.958 total time=   0.0s\n",
      "[CV 2/5] END C=13, decision_function_shape=ovo, gamma=auto, kernel=linear;, score=0.958 total time=   0.0s\n",
      "[CV 3/5] END C=13, decision_function_shape=ovo, gamma=auto, kernel=linear;, score=0.833 total time=   0.0s\n",
      "[CV 4/5] END C=13, decision_function_shape=ovo, gamma=auto, kernel=linear;, score=1.000 total time=   0.0s\n",
      "[CV 5/5] END C=13, decision_function_shape=ovo, gamma=auto, kernel=linear;, score=1.000 total time=   0.0s\n",
      "[CV 1/5] END C=13, decision_function_shape=ovo, gamma=auto, kernel=poly;, score=0.958 total time=   0.0s\n",
      "[CV 2/5] END C=13, decision_function_shape=ovo, gamma=auto, kernel=poly;, score=1.000 total time=   0.0s\n",
      "[CV 3/5] END C=13, decision_function_shape=ovo, gamma=auto, kernel=poly;, score=0.833 total time=   0.0s\n",
      "[CV 4/5] END C=13, decision_function_shape=ovo, gamma=auto, kernel=poly;, score=0.958 total time=   0.0s\n",
      "[CV 5/5] END C=13, decision_function_shape=ovo, gamma=auto, kernel=poly;, score=0.958 total time=   0.0s\n",
      "[CV 1/5] END C=13, decision_function_shape=ovo, gamma=auto, kernel=rbf;, score=1.000 total time=   0.0s\n",
      "[CV 2/5] END C=13, decision_function_shape=ovo, gamma=auto, kernel=rbf;, score=0.958 total time=   0.0s\n",
      "[CV 3/5] END C=13, decision_function_shape=ovo, gamma=auto, kernel=rbf;, score=0.833 total time=   0.0s\n",
      "[CV 4/5] END C=13, decision_function_shape=ovo, gamma=auto, kernel=rbf;, score=1.000 total time=   0.0s\n",
      "[CV 5/5] END C=13, decision_function_shape=ovo, gamma=auto, kernel=rbf;, score=1.000 total time=   0.0s\n",
      "[CV 1/5] END C=13, decision_function_shape=ovo, gamma=auto, kernel=sigmoid;, score=0.042 total time=   0.0s\n",
      "[CV 2/5] END C=13, decision_function_shape=ovo, gamma=auto, kernel=sigmoid;, score=0.333 total time=   0.0s\n",
      "[CV 3/5] END C=13, decision_function_shape=ovo, gamma=auto, kernel=sigmoid;, score=0.333 total time=   0.0s\n",
      "[CV 4/5] END C=13, decision_function_shape=ovo, gamma=auto, kernel=sigmoid;, score=0.333 total time=   0.0s\n",
      "[CV 5/5] END C=13, decision_function_shape=ovo, gamma=auto, kernel=sigmoid;, score=0.333 total time=   0.0s\n",
      "[CV 1/5] END C=13, decision_function_shape=ovr, gamma=scale, kernel=linear;, score=0.958 total time=   0.0s\n",
      "[CV 2/5] END C=13, decision_function_shape=ovr, gamma=scale, kernel=linear;, score=0.958 total time=   0.0s\n",
      "[CV 3/5] END C=13, decision_function_shape=ovr, gamma=scale, kernel=linear;, score=0.833 total time=   0.0s\n",
      "[CV 4/5] END C=13, decision_function_shape=ovr, gamma=scale, kernel=linear;, score=1.000 total time=   0.0s\n",
      "[CV 5/5] END C=13, decision_function_shape=ovr, gamma=scale, kernel=linear;, score=1.000 total time=   0.0s\n",
      "[CV 1/5] END C=13, decision_function_shape=ovr, gamma=scale, kernel=poly;, score=0.958 total time=   0.0s\n",
      "[CV 2/5] END C=13, decision_function_shape=ovr, gamma=scale, kernel=poly;, score=0.958 total time=   0.0s\n",
      "[CV 3/5] END C=13, decision_function_shape=ovr, gamma=scale, kernel=poly;, score=0.833 total time=   0.0s\n",
      "[CV 4/5] END C=13, decision_function_shape=ovr, gamma=scale, kernel=poly;, score=0.958 total time=   0.0s\n",
      "[CV 5/5] END C=13, decision_function_shape=ovr, gamma=scale, kernel=poly;, score=0.958 total time=   0.0s\n",
      "[CV 1/5] END C=13, decision_function_shape=ovr, gamma=scale, kernel=rbf;, score=1.000 total time=   0.0s\n",
      "[CV 2/5] END C=13, decision_function_shape=ovr, gamma=scale, kernel=rbf;, score=0.958 total time=   0.0s\n",
      "[CV 3/5] END C=13, decision_function_shape=ovr, gamma=scale, kernel=rbf;, score=0.833 total time=   0.0s\n",
      "[CV 4/5] END C=13, decision_function_shape=ovr, gamma=scale, kernel=rbf;, score=1.000 total time=   0.0s\n",
      "[CV 5/5] END C=13, decision_function_shape=ovr, gamma=scale, kernel=rbf;, score=0.958 total time=   0.0s\n",
      "[CV 1/5] END C=13, decision_function_shape=ovr, gamma=scale, kernel=sigmoid;, score=0.125 total time=   0.0s\n",
      "[CV 2/5] END C=13, decision_function_shape=ovr, gamma=scale, kernel=sigmoid;, score=0.250 total time=   0.0s\n",
      "[CV 3/5] END C=13, decision_function_shape=ovr, gamma=scale, kernel=sigmoid;, score=0.208 total time=   0.0s\n",
      "[CV 4/5] END C=13, decision_function_shape=ovr, gamma=scale, kernel=sigmoid;, score=0.042 total time=   0.0s\n",
      "[CV 5/5] END C=13, decision_function_shape=ovr, gamma=scale, kernel=sigmoid;, score=0.167 total time=   0.0s\n",
      "[CV 1/5] END C=13, decision_function_shape=ovr, gamma=auto, kernel=linear;, score=0.958 total time=   0.0s\n",
      "[CV 2/5] END C=13, decision_function_shape=ovr, gamma=auto, kernel=linear;, score=0.958 total time=   0.0s\n",
      "[CV 3/5] END C=13, decision_function_shape=ovr, gamma=auto, kernel=linear;, score=0.833 total time=   0.0s\n",
      "[CV 4/5] END C=13, decision_function_shape=ovr, gamma=auto, kernel=linear;, score=1.000 total time=   0.0s\n",
      "[CV 5/5] END C=13, decision_function_shape=ovr, gamma=auto, kernel=linear;, score=1.000 total time=   0.0s\n",
      "[CV 1/5] END C=13, decision_function_shape=ovr, gamma=auto, kernel=poly;, score=0.958 total time=   0.0s\n",
      "[CV 2/5] END C=13, decision_function_shape=ovr, gamma=auto, kernel=poly;, score=1.000 total time=   0.0s\n",
      "[CV 3/5] END C=13, decision_function_shape=ovr, gamma=auto, kernel=poly;, score=0.833 total time=   0.0s\n",
      "[CV 4/5] END C=13, decision_function_shape=ovr, gamma=auto, kernel=poly;, score=0.958 total time=   0.0s\n",
      "[CV 5/5] END C=13, decision_function_shape=ovr, gamma=auto, kernel=poly;, score=0.958 total time=   0.0s\n",
      "[CV 1/5] END C=13, decision_function_shape=ovr, gamma=auto, kernel=rbf;, score=1.000 total time=   0.0s\n",
      "[CV 2/5] END C=13, decision_function_shape=ovr, gamma=auto, kernel=rbf;, score=0.958 total time=   0.0s\n",
      "[CV 3/5] END C=13, decision_function_shape=ovr, gamma=auto, kernel=rbf;, score=0.833 total time=   0.0s\n",
      "[CV 4/5] END C=13, decision_function_shape=ovr, gamma=auto, kernel=rbf;, score=1.000 total time=   0.0s\n",
      "[CV 5/5] END C=13, decision_function_shape=ovr, gamma=auto, kernel=rbf;, score=1.000 total time=   0.0s\n",
      "[CV 1/5] END C=13, decision_function_shape=ovr, gamma=auto, kernel=sigmoid;, score=0.042 total time=   0.0s\n",
      "[CV 2/5] END C=13, decision_function_shape=ovr, gamma=auto, kernel=sigmoid;, score=0.333 total time=   0.0s\n",
      "[CV 3/5] END C=13, decision_function_shape=ovr, gamma=auto, kernel=sigmoid;, score=0.333 total time=   0.0s\n",
      "[CV 4/5] END C=13, decision_function_shape=ovr, gamma=auto, kernel=sigmoid;, score=0.333 total time=   0.0s\n",
      "[CV 5/5] END C=13, decision_function_shape=ovr, gamma=auto, kernel=sigmoid;, score=0.333 total time=   0.0s\n"
     ]
    },
    {
     "data": {
      "text/html": [
       "<style>#sk-container-id-3 {color: black;background-color: white;}#sk-container-id-3 pre{padding: 0;}#sk-container-id-3 div.sk-toggleable {background-color: white;}#sk-container-id-3 label.sk-toggleable__label {cursor: pointer;display: block;width: 100%;margin-bottom: 0;padding: 0.3em;box-sizing: border-box;text-align: center;}#sk-container-id-3 label.sk-toggleable__label-arrow:before {content: \"▸\";float: left;margin-right: 0.25em;color: #696969;}#sk-container-id-3 label.sk-toggleable__label-arrow:hover:before {color: black;}#sk-container-id-3 div.sk-estimator:hover label.sk-toggleable__label-arrow:before {color: black;}#sk-container-id-3 div.sk-toggleable__content {max-height: 0;max-width: 0;overflow: hidden;text-align: left;background-color: #f0f8ff;}#sk-container-id-3 div.sk-toggleable__content pre {margin: 0.2em;color: black;border-radius: 0.25em;background-color: #f0f8ff;}#sk-container-id-3 input.sk-toggleable__control:checked~div.sk-toggleable__content {max-height: 200px;max-width: 100%;overflow: auto;}#sk-container-id-3 input.sk-toggleable__control:checked~label.sk-toggleable__label-arrow:before {content: \"▾\";}#sk-container-id-3 div.sk-estimator input.sk-toggleable__control:checked~label.sk-toggleable__label {background-color: #d4ebff;}#sk-container-id-3 div.sk-label input.sk-toggleable__control:checked~label.sk-toggleable__label {background-color: #d4ebff;}#sk-container-id-3 input.sk-hidden--visually {border: 0;clip: rect(1px 1px 1px 1px);clip: rect(1px, 1px, 1px, 1px);height: 1px;margin: -1px;overflow: hidden;padding: 0;position: absolute;width: 1px;}#sk-container-id-3 div.sk-estimator {font-family: monospace;background-color: #f0f8ff;border: 1px dotted black;border-radius: 0.25em;box-sizing: border-box;margin-bottom: 0.5em;}#sk-container-id-3 div.sk-estimator:hover {background-color: #d4ebff;}#sk-container-id-3 div.sk-parallel-item::after {content: \"\";width: 100%;border-bottom: 1px solid gray;flex-grow: 1;}#sk-container-id-3 div.sk-label:hover label.sk-toggleable__label {background-color: #d4ebff;}#sk-container-id-3 div.sk-serial::before {content: \"\";position: absolute;border-left: 1px solid gray;box-sizing: border-box;top: 0;bottom: 0;left: 50%;z-index: 0;}#sk-container-id-3 div.sk-serial {display: flex;flex-direction: column;align-items: center;background-color: white;padding-right: 0.2em;padding-left: 0.2em;position: relative;}#sk-container-id-3 div.sk-item {position: relative;z-index: 1;}#sk-container-id-3 div.sk-parallel {display: flex;align-items: stretch;justify-content: center;background-color: white;position: relative;}#sk-container-id-3 div.sk-item::before, #sk-container-id-3 div.sk-parallel-item::before {content: \"\";position: absolute;border-left: 1px solid gray;box-sizing: border-box;top: 0;bottom: 0;left: 50%;z-index: -1;}#sk-container-id-3 div.sk-parallel-item {display: flex;flex-direction: column;z-index: 1;position: relative;background-color: white;}#sk-container-id-3 div.sk-parallel-item:first-child::after {align-self: flex-end;width: 50%;}#sk-container-id-3 div.sk-parallel-item:last-child::after {align-self: flex-start;width: 50%;}#sk-container-id-3 div.sk-parallel-item:only-child::after {width: 0;}#sk-container-id-3 div.sk-dashed-wrapped {border: 1px dashed gray;margin: 0 0.4em 0.5em 0.4em;box-sizing: border-box;padding-bottom: 0.4em;background-color: white;}#sk-container-id-3 div.sk-label label {font-family: monospace;font-weight: bold;display: inline-block;line-height: 1.2em;}#sk-container-id-3 div.sk-label-container {text-align: center;}#sk-container-id-3 div.sk-container {/* jupyter's `normalize.less` sets `[hidden] { display: none; }` but bootstrap.min.css set `[hidden] { display: none !important; }` so we also need the `!important` here to be able to override the default hidden behavior on the sphinx rendered scikit-learn.org. See: https://github.com/scikit-learn/scikit-learn/issues/21755 */display: inline-block !important;position: relative;}#sk-container-id-3 div.sk-text-repr-fallback {display: none;}</style><div id=\"sk-container-id-3\" class=\"sk-top-container\"><div class=\"sk-text-repr-fallback\"><pre>GridSearchCV(cv=5, estimator=SVC(),\n",
       "             param_grid={&#x27;C&#x27;: [1, 9, 13],\n",
       "                         &#x27;decision_function_shape&#x27;: [&#x27;ovo&#x27;, &#x27;ovr&#x27;],\n",
       "                         &#x27;gamma&#x27;: [&#x27;scale&#x27;, &#x27;auto&#x27;],\n",
       "                         &#x27;kernel&#x27;: [&#x27;linear&#x27;, &#x27;poly&#x27;, &#x27;rbf&#x27;, &#x27;sigmoid&#x27;]},\n",
       "             verbose=3)</pre><b>In a Jupyter environment, please rerun this cell to show the HTML representation or trust the notebook. <br />On GitHub, the HTML representation is unable to render, please try loading this page with nbviewer.org.</b></div><div class=\"sk-container\" hidden><div class=\"sk-item sk-dashed-wrapped\"><div class=\"sk-label-container\"><div class=\"sk-label sk-toggleable\"><input class=\"sk-toggleable__control sk-hidden--visually\" id=\"sk-estimator-id-5\" type=\"checkbox\" ><label for=\"sk-estimator-id-5\" class=\"sk-toggleable__label sk-toggleable__label-arrow\">GridSearchCV</label><div class=\"sk-toggleable__content\"><pre>GridSearchCV(cv=5, estimator=SVC(),\n",
       "             param_grid={&#x27;C&#x27;: [1, 9, 13],\n",
       "                         &#x27;decision_function_shape&#x27;: [&#x27;ovo&#x27;, &#x27;ovr&#x27;],\n",
       "                         &#x27;gamma&#x27;: [&#x27;scale&#x27;, &#x27;auto&#x27;],\n",
       "                         &#x27;kernel&#x27;: [&#x27;linear&#x27;, &#x27;poly&#x27;, &#x27;rbf&#x27;, &#x27;sigmoid&#x27;]},\n",
       "             verbose=3)</pre></div></div></div><div class=\"sk-parallel\"><div class=\"sk-parallel-item\"><div class=\"sk-item\"><div class=\"sk-label-container\"><div class=\"sk-label sk-toggleable\"><input class=\"sk-toggleable__control sk-hidden--visually\" id=\"sk-estimator-id-6\" type=\"checkbox\" ><label for=\"sk-estimator-id-6\" class=\"sk-toggleable__label sk-toggleable__label-arrow\">estimator: SVC</label><div class=\"sk-toggleable__content\"><pre>SVC()</pre></div></div></div><div class=\"sk-serial\"><div class=\"sk-item\"><div class=\"sk-estimator sk-toggleable\"><input class=\"sk-toggleable__control sk-hidden--visually\" id=\"sk-estimator-id-7\" type=\"checkbox\" ><label for=\"sk-estimator-id-7\" class=\"sk-toggleable__label sk-toggleable__label-arrow\">SVC</label><div class=\"sk-toggleable__content\"><pre>SVC()</pre></div></div></div></div></div></div></div></div></div></div>"
      ],
      "text/plain": [
       "GridSearchCV(cv=5, estimator=SVC(),\n",
       "             param_grid={'C': [1, 9, 13],\n",
       "                         'decision_function_shape': ['ovo', 'ovr'],\n",
       "                         'gamma': ['scale', 'auto'],\n",
       "                         'kernel': ['linear', 'poly', 'rbf', 'sigmoid']},\n",
       "             verbose=3)"
      ]
     },
     "execution_count": 58,
     "metadata": {},
     "output_type": "execute_result"
    }
   ],
   "source": [
    "grid_search.fit(x1_train,y1_train)"
   ]
  },
  {
   "cell_type": "markdown",
   "id": "2a6291a8-e7af-4a58-bb3c-6977d9a90531",
   "metadata": {},
   "source": [
    "##### Train the tuned classifier on the entire dataset"
   ]
  },
  {
   "cell_type": "code",
   "execution_count": 62,
   "id": "ce77ebf7-b398-432d-949a-dcf3915f652b",
   "metadata": {},
   "outputs": [],
   "source": [
    "best_params=grid_search.best_params_"
   ]
  },
  {
   "cell_type": "code",
   "execution_count": 67,
   "id": "89c188f8-90be-4749-a0b6-3a8b039cb0ca",
   "metadata": {},
   "outputs": [],
   "source": [
    "svm_best_fit=SVC(**best_params)"
   ]
  },
  {
   "cell_type": "code",
   "execution_count": 68,
   "id": "bd95b209-8d8b-4975-a2f8-ba261e96bb1a",
   "metadata": {},
   "outputs": [
    {
     "data": {
      "text/html": [
       "<style>#sk-container-id-4 {color: black;background-color: white;}#sk-container-id-4 pre{padding: 0;}#sk-container-id-4 div.sk-toggleable {background-color: white;}#sk-container-id-4 label.sk-toggleable__label {cursor: pointer;display: block;width: 100%;margin-bottom: 0;padding: 0.3em;box-sizing: border-box;text-align: center;}#sk-container-id-4 label.sk-toggleable__label-arrow:before {content: \"▸\";float: left;margin-right: 0.25em;color: #696969;}#sk-container-id-4 label.sk-toggleable__label-arrow:hover:before {color: black;}#sk-container-id-4 div.sk-estimator:hover label.sk-toggleable__label-arrow:before {color: black;}#sk-container-id-4 div.sk-toggleable__content {max-height: 0;max-width: 0;overflow: hidden;text-align: left;background-color: #f0f8ff;}#sk-container-id-4 div.sk-toggleable__content pre {margin: 0.2em;color: black;border-radius: 0.25em;background-color: #f0f8ff;}#sk-container-id-4 input.sk-toggleable__control:checked~div.sk-toggleable__content {max-height: 200px;max-width: 100%;overflow: auto;}#sk-container-id-4 input.sk-toggleable__control:checked~label.sk-toggleable__label-arrow:before {content: \"▾\";}#sk-container-id-4 div.sk-estimator input.sk-toggleable__control:checked~label.sk-toggleable__label {background-color: #d4ebff;}#sk-container-id-4 div.sk-label input.sk-toggleable__control:checked~label.sk-toggleable__label {background-color: #d4ebff;}#sk-container-id-4 input.sk-hidden--visually {border: 0;clip: rect(1px 1px 1px 1px);clip: rect(1px, 1px, 1px, 1px);height: 1px;margin: -1px;overflow: hidden;padding: 0;position: absolute;width: 1px;}#sk-container-id-4 div.sk-estimator {font-family: monospace;background-color: #f0f8ff;border: 1px dotted black;border-radius: 0.25em;box-sizing: border-box;margin-bottom: 0.5em;}#sk-container-id-4 div.sk-estimator:hover {background-color: #d4ebff;}#sk-container-id-4 div.sk-parallel-item::after {content: \"\";width: 100%;border-bottom: 1px solid gray;flex-grow: 1;}#sk-container-id-4 div.sk-label:hover label.sk-toggleable__label {background-color: #d4ebff;}#sk-container-id-4 div.sk-serial::before {content: \"\";position: absolute;border-left: 1px solid gray;box-sizing: border-box;top: 0;bottom: 0;left: 50%;z-index: 0;}#sk-container-id-4 div.sk-serial {display: flex;flex-direction: column;align-items: center;background-color: white;padding-right: 0.2em;padding-left: 0.2em;position: relative;}#sk-container-id-4 div.sk-item {position: relative;z-index: 1;}#sk-container-id-4 div.sk-parallel {display: flex;align-items: stretch;justify-content: center;background-color: white;position: relative;}#sk-container-id-4 div.sk-item::before, #sk-container-id-4 div.sk-parallel-item::before {content: \"\";position: absolute;border-left: 1px solid gray;box-sizing: border-box;top: 0;bottom: 0;left: 50%;z-index: -1;}#sk-container-id-4 div.sk-parallel-item {display: flex;flex-direction: column;z-index: 1;position: relative;background-color: white;}#sk-container-id-4 div.sk-parallel-item:first-child::after {align-self: flex-end;width: 50%;}#sk-container-id-4 div.sk-parallel-item:last-child::after {align-self: flex-start;width: 50%;}#sk-container-id-4 div.sk-parallel-item:only-child::after {width: 0;}#sk-container-id-4 div.sk-dashed-wrapped {border: 1px dashed gray;margin: 0 0.4em 0.5em 0.4em;box-sizing: border-box;padding-bottom: 0.4em;background-color: white;}#sk-container-id-4 div.sk-label label {font-family: monospace;font-weight: bold;display: inline-block;line-height: 1.2em;}#sk-container-id-4 div.sk-label-container {text-align: center;}#sk-container-id-4 div.sk-container {/* jupyter's `normalize.less` sets `[hidden] { display: none; }` but bootstrap.min.css set `[hidden] { display: none !important; }` so we also need the `!important` here to be able to override the default hidden behavior on the sphinx rendered scikit-learn.org. See: https://github.com/scikit-learn/scikit-learn/issues/21755 */display: inline-block !important;position: relative;}#sk-container-id-4 div.sk-text-repr-fallback {display: none;}</style><div id=\"sk-container-id-4\" class=\"sk-top-container\"><div class=\"sk-text-repr-fallback\"><pre>SVC(C=1, decision_function_shape=&#x27;ovo&#x27;, kernel=&#x27;linear&#x27;)</pre><b>In a Jupyter environment, please rerun this cell to show the HTML representation or trust the notebook. <br />On GitHub, the HTML representation is unable to render, please try loading this page with nbviewer.org.</b></div><div class=\"sk-container\" hidden><div class=\"sk-item\"><div class=\"sk-estimator sk-toggleable\"><input class=\"sk-toggleable__control sk-hidden--visually\" id=\"sk-estimator-id-8\" type=\"checkbox\" checked><label for=\"sk-estimator-id-8\" class=\"sk-toggleable__label sk-toggleable__label-arrow\">SVC</label><div class=\"sk-toggleable__content\"><pre>SVC(C=1, decision_function_shape=&#x27;ovo&#x27;, kernel=&#x27;linear&#x27;)</pre></div></div></div></div></div>"
      ],
      "text/plain": [
       "SVC(C=1, decision_function_shape='ovo', kernel='linear')"
      ]
     },
     "execution_count": 68,
     "metadata": {},
     "output_type": "execute_result"
    }
   ],
   "source": [
    "svm_best_fit.fit(x1_train,y1_train)"
   ]
  },
  {
   "cell_type": "code",
   "execution_count": 69,
   "id": "f71b7089-e421-43ab-9eca-17c60c96ba9c",
   "metadata": {},
   "outputs": [],
   "source": [
    "y1_pred=svm_best_fit.predict(x1_test)"
   ]
  },
  {
   "cell_type": "code",
   "execution_count": 70,
   "id": "1ee8cca9-dfe3-4137-851f-902d30a94364",
   "metadata": {},
   "outputs": [
    {
     "data": {
      "text/plain": [
       "array([1, 0, 2, 1, 1, 0, 1, 2, 1, 1, 2, 0, 0, 0, 0, 1, 2, 1, 1, 2, 0, 2,\n",
       "       0, 2, 2, 2, 2, 2, 0, 0])"
      ]
     },
     "execution_count": 70,
     "metadata": {},
     "output_type": "execute_result"
    }
   ],
   "source": [
    "y1_pred"
   ]
  },
  {
   "cell_type": "code",
   "execution_count": 71,
   "id": "97847401-5f77-41f2-8eee-6fc95adb1565",
   "metadata": {},
   "outputs": [
    {
     "name": "stdout",
     "output_type": "stream",
     "text": [
      "Accuracy: 1.0\n",
      "Precision: 1.0\n",
      "Recall: 1.0\n",
      "F1-Score 1.0\n"
     ]
    }
   ],
   "source": [
    "print(\"Accuracy:\",accuracy_score(y_test,y_pred))\n",
    "print(\"Precision:\",precision_score(y_test,y_pred,average='weighted'))\n",
    "print(\"Recall:\",recall_score(y_test,y_pred,average='weighted'))\n",
    "print(\"F1-Score\",f1_score(y_test,y_pred,average='weighted'))"
   ]
  },
  {
   "cell_type": "markdown",
   "id": "c8797684-3f62-41e8-8dff-6c1cda3e9a67",
   "metadata": {},
   "source": [
    "##### Save the trained classifier to a file for future use."
   ]
  },
  {
   "cell_type": "code",
   "execution_count": 72,
   "id": "70db8522-61d6-4dcb-8037-8f7e3bff9253",
   "metadata": {},
   "outputs": [],
   "source": [
    "import pickle"
   ]
  },
  {
   "cell_type": "code",
   "execution_count": 74,
   "id": "c5acfdb1-187b-46af-9dc3-03f64cfc523c",
   "metadata": {},
   "outputs": [],
   "source": [
    "with open('SvmClassifier.pkl','wb') as file:\n",
    "    pickle.dump(svm_best_fit,file)"
   ]
  },
  {
   "cell_type": "code",
   "execution_count": null,
   "id": "1252ba70-3282-4997-a5ad-242ae15952e2",
   "metadata": {},
   "outputs": [],
   "source": []
  }
 ],
 "metadata": {
  "kernelspec": {
   "display_name": "Python 3 (ipykernel)",
   "language": "python",
   "name": "python3"
  },
  "language_info": {
   "codemirror_mode": {
    "name": "ipython",
    "version": 3
   },
   "file_extension": ".py",
   "mimetype": "text/x-python",
   "name": "python",
   "nbconvert_exporter": "python",
   "pygments_lexer": "ipython3",
   "version": "3.10.8"
  }
 },
 "nbformat": 4,
 "nbformat_minor": 5
}
